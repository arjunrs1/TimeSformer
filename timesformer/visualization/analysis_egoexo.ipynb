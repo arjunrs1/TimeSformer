{
 "cells": [
  {
   "cell_type": "code",
   "execution_count": 1,
   "metadata": {},
   "outputs": [],
   "source": [
    "import numpy as np\n",
    "import os\n",
    "import pickle\n",
    "import csv\n",
    "from scipy.special import softmax\n",
    "import torch\n",
    "import matplotlib.pyplot as plt\n",
    "import seaborn as sns\n",
    "from sklearn.metrics import confusion_matrix, classification_report\n",
    "import json\n",
    "from scipy import stats\n",
    "import random\n",
    "import pandas as pd"
   ]
  },
  {
   "cell_type": "code",
   "execution_count": 2,
   "metadata": {},
   "outputs": [],
   "source": [
    "val_metadata_path = \"/vision/asomaya1/ego_exo/data/demonstrator_arxiv23_test.json\"\n",
    "with open(val_metadata_path, \"r\") as f:\n",
    "    val_data = json.load(f)\n",
    "\n",
    "task_names = []\n",
    "user_ids = []\n",
    "for entry in val_data:\n",
    "    task_names.append(entry['scenario_name'])\n",
    "    user_ids.append(entry['origin_participant_id'])"
   ]
  },
  {
   "cell_type": "code",
   "execution_count": 3,
   "metadata": {},
   "outputs": [],
   "source": [
    "camera_views = ['ego']\n",
    "#options: 'ego', 'exo_all'\n",
    "path_prefix = \"/vision/asomaya1/ego_exo/ProficiencyEstimation/TimeSformer/outputs\"\n",
    "\n",
    "mode = \"448pFull\"\n",
    "#options: 256p, 448p\n",
    "\n",
    "kinetics_pretrain_path = \"_kinetics_pretrain\"\n",
    "vlp_pretrain_path = \"_vlp_pretrain\"\n",
    "vlpv2_pretrain_path = \"_vlpv2_pretrain\"\n",
    "#ONLY ONE OF THE BELOW PRE-TRAIN OPTIONS CAN BE TRUE\n",
    "use_kinetics_pretrain = False\n",
    "use_vlp_pretrain = True\n",
    "use_vlpv2_pretrain = False  \n",
    "\n",
    "#Set multi-take flag\n",
    "multi_take_eval = False"
   ]
  },
  {
   "cell_type": "code",
   "execution_count": 4,
   "metadata": {},
   "outputs": [],
   "source": [
    "csv_file_path = os.path.join(\"/vision/asomaya1/ego_exo/ProficiencyEstimation/TimeSformer/ego_exo_splits\", mode, \"ego\", \"test.csv\")\n",
    "\n",
    "paths = []\n",
    "labels = []\n",
    "\n",
    "# Open the CSV file and read labels\n",
    "with open(csv_file_path, \"r\") as csv_file:\n",
    "    csv_reader = csv.reader(csv_file, delimiter=\" \")\n",
    "\n",
    "    for row in csv_reader:\n",
    "        path = row[0]\n",
    "        second_string = row[1]\n",
    "        second_integer = int(second_string)\n",
    "        labels.append(second_integer)\n",
    "        paths.append(path)\n",
    "\n",
    "# Convert the list of labels to a NumPy array\n",
    "labels = torch.tensor(np.array(labels, dtype=np.int32))"
   ]
  },
  {
   "cell_type": "code",
   "execution_count": 5,
   "metadata": {},
   "outputs": [],
   "source": [
    "preds = []\n",
    "for view in camera_views:\n",
    "    if use_kinetics_pretrain:\n",
    "        view += kinetics_pretrain_path\n",
    "    elif use_vlp_pretrain:\n",
    "        view += vlp_pretrain_path\n",
    "    elif use_vlpv2_pretrain:\n",
    "        view += vlpv2_pretrain_path\n",
    "    with open(os.path.join(path_prefix, mode, view, \"preds.pkl\"), \"rb\") as f:\n",
    "        data = pickle.load(f)\n",
    "        pred = data[1]\n",
    "        if len(pred) != 617: #length of test set\n",
    "            prediction_sets = []\n",
    "            # Split the tensor\n",
    "            for i in range(4):\n",
    "                prediction_sets.append(pred[i::4, :])\n",
    "            #prediction_sets = np.split(pred, 4)\n",
    "            for p in prediction_sets:\n",
    "                preds.append(p)\n",
    "        else:\n",
    "            preds.append(pred)"
   ]
  },
  {
   "cell_type": "code",
   "execution_count": 6,
   "metadata": {},
   "outputs": [],
   "source": [
    "#get ensembled predictions:\n",
    "concat_preds = torch.stack(preds,dim=0)"
   ]
  },
  {
   "cell_type": "code",
   "execution_count": 7,
   "metadata": {},
   "outputs": [],
   "source": [
    "if multi_take_eval:\n",
    "    user_id_to_indices = {uid: [i for i, x in enumerate(user_ids) if x == uid] for uid in set(user_ids)}\n",
    "\n",
    "    # Find the maximum number of examples per user\n",
    "    max_examples_per_user = max(len(indices) for indices in user_id_to_indices.values())\n",
    "\n",
    "    # Prepare to concatenate slices for each test set example\n",
    "    example_tensors = []\n",
    "\n",
    "    for example_index in range(concat_preds.shape[1]):\n",
    "        uid = user_ids[example_index]\n",
    "        example_indices = user_id_to_indices[uid]\n",
    "\n",
    "        # Get the slices for this user ID\n",
    "        slices = concat_preds[:, example_indices, :]\n",
    "\n",
    "        # Pad if necessary\n",
    "        while slices.shape[1] < max_examples_per_user:\n",
    "            slices = torch.cat((slices, slices[:, 0, :].unsqueeze(1)), dim=1)\n",
    "\n",
    "        # Concatenate the slice for the current example\n",
    "        reshaped_slice = slices.view(-1, 1, 4)\n",
    "        #example_tensor = torch.cat((slices, concat_preds[:, example_index:example_index + 1, :]), dim=1)\n",
    "        example_tensors.append(reshaped_slice)\n",
    "\n",
    "    # Stack to form the final tensor\n",
    "    concat_preds = torch.cat(example_tensors, dim=1)  # (new_first_dim, 365, 4)"
   ]
  },
  {
   "cell_type": "code",
   "execution_count": 8,
   "metadata": {},
   "outputs": [],
   "source": [
    "softmax_preds = torch.nn.functional.softmax(concat_preds, dim=-1)\n",
    "ensemble_preds = torch.mean(softmax_preds, dim=0)\n",
    "pred_idxs = torch.argmax(ensemble_preds, dim=1)"
   ]
  },
  {
   "cell_type": "code",
   "execution_count": 9,
   "metadata": {},
   "outputs": [
    {
     "name": "stderr",
     "output_type": "stream",
     "text": [
      "/tmp/ipykernel_3005128/1570888786.py:16: FutureWarning: Unlike other reduction functions (e.g. `skew`, `kurtosis`), the default behavior of `mode` typically preserves the axis it acts along. In SciPy 1.11.0, this behavior will change: the default value of `keepdims` will become False, the `axis` over which the statistic is taken will be eliminated, and the value None will no longer be accepted. Set `keepdims` to True or False to avoid this warning.\n",
      "  random_baseline_preds = torch.tensor(stats.mode(stacked_predictions, axis=0).mode[0])\n"
     ]
    }
   ],
   "source": [
    "#random baseline predictions:\n",
    "num_examples = len(pred_idxs)\n",
    "num_classes = 4\n",
    "\n",
    "all_predictions = []\n",
    "\n",
    "\n",
    "random_seeds = [random.randint(1, 1000) for _ in range(5)]\n",
    "for seed in random_seeds:\n",
    "    torch.manual_seed(seed)\n",
    "    seed_predictions = torch.randint(0, num_classes, pred_idxs.shape)\n",
    "    all_predictions.append(seed_predictions)\n",
    "\n",
    "stacked_predictions = torch.stack(all_predictions)\n",
    "\n",
    "random_baseline_preds = torch.tensor(stats.mode(stacked_predictions, axis=0).mode[0])"
   ]
  },
  {
   "cell_type": "code",
   "execution_count": 10,
   "metadata": {},
   "outputs": [],
   "source": [
    "#class majority baseline predictions:\n",
    "with open('/vision/asomaya1/ego_exo/ProficiencyEstimation/TimeSformer/ego_exo_splits/majority_class_baseline_mapping_full.json', 'r') as json_file:\n",
    "    loaded_video_path_mapping = json.load(json_file)\n",
    "\n",
    "class_majority_baseline_preds = []\n",
    "\n",
    "with open(csv_file_path, \"r\") as csv_file:\n",
    "    csv_reader = csv.reader(csv_file, delimiter=\" \")\n",
    "\n",
    "    for row in csv_reader:\n",
    "        video_path = row[0].replace(\"takes_\"+mode, \"takes\")\n",
    "        mode_index = loaded_video_path_mapping[video_path]\n",
    "        class_majority_baseline_preds.append(mode_index)\n",
    "\n",
    "class_majority_baseline_preds = torch.tensor(np.array(class_majority_baseline_preds, dtype=np.int32))"
   ]
  },
  {
   "cell_type": "code",
   "execution_count": 11,
   "metadata": {},
   "outputs": [
    {
     "name": "stdout",
     "output_type": "stream",
     "text": [
      "Class majority baseline:\n",
      "top1 accuracy: 0.353322528\n"
     ]
    }
   ],
   "source": [
    "correct_predictions = torch.sum(class_majority_baseline_preds == labels).item()\n",
    "top1_accuracy = correct_predictions / len(labels)\n",
    "print(\"Class majority baseline:\")\n",
    "print(\"top1 accuracy:\", round(top1_accuracy,9))"
   ]
  },
  {
   "cell_type": "code",
   "execution_count": 12,
   "metadata": {},
   "outputs": [
    {
     "name": "stdout",
     "output_type": "stream",
     "text": [
      "Model:\n",
      "top1 accuracy: 0.486223663\n",
      "Random baseline:\n",
      "top1 accuracy: 0.244732577\n",
      "Class majority baseline:\n",
      "top1 accuracy: 0.353322528\n"
     ]
    }
   ],
   "source": [
    "#overall accuracy stats:\n",
    "correct_predictions = torch.sum(pred_idxs == labels).item()\n",
    "top1_accuracy = correct_predictions / len(labels)\n",
    "print(\"Model:\")\n",
    "print(\"top1 accuracy:\", round(top1_accuracy,9))\n",
    "\n",
    "correct_predictions = torch.sum(random_baseline_preds == labels).item()\n",
    "top1_accuracy = correct_predictions / len(labels)\n",
    "print(\"Random baseline:\")\n",
    "print(\"top1 accuracy:\", round(top1_accuracy,9))\n",
    "\n",
    "correct_predictions = torch.sum(class_majority_baseline_preds == labels).item()\n",
    "top1_accuracy = correct_predictions / len(labels)\n",
    "print(\"Class majority baseline:\")\n",
    "print(\"top1 accuracy:\", round(top1_accuracy,9))"
   ]
  },
  {
   "cell_type": "code",
   "execution_count": 13,
   "metadata": {},
   "outputs": [],
   "source": [
    "#task-stratified accuracy stats: TIMESFORMER MODEL\n",
    "import pandas as pd\n",
    "\n",
    "# Create a DataFrame\n",
    "data = {\n",
    "    \"Task\": task_names,\n",
    "    \"TrueProficiency\": labels,\n",
    "    \"PredictedProficiency\": pred_idxs\n",
    "}\n",
    "df = pd.DataFrame(data)\n",
    "\n",
    "# Compute Overall Top-1 Accuracy\n",
    "total_tasks = len(df)\n",
    "correct_predictions = (df[\"TrueProficiency\"] == df[\"PredictedProficiency\"]).sum()\n",
    "overall_top1_accuracy = correct_predictions / total_tasks\n",
    "\n",
    "# Compute Top-1 Accuracy for Each Task\n",
    "task_grouped = df.groupby(\"Task\")\n",
    "task_accuracy = task_grouped.apply(lambda x: (x[\"TrueProficiency\"] == x[\"PredictedProficiency\"]).sum() / len(x))\n",
    "task_count = task_grouped.apply(lambda x: len(x))\n",
    "task_accuracy_df = task_accuracy.reset_index(name=\"TaskTop1Accuracy\")"
   ]
  },
  {
   "cell_type": "code",
   "execution_count": 14,
   "metadata": {},
   "outputs": [
    {
     "name": "stdout",
     "output_type": "stream",
     "text": [
      "TIMESFORMER RESULTS:\n",
      "Overall Top-1 Accuracy: 0.4862236628849271\n",
      "Task-wise Top-1 Accuracy:\n"
     ]
    },
    {
     "data": {
      "text/html": [
       "<div>\n",
       "<style scoped>\n",
       "    .dataframe tbody tr th:only-of-type {\n",
       "        vertical-align: middle;\n",
       "    }\n",
       "\n",
       "    .dataframe tbody tr th {\n",
       "        vertical-align: top;\n",
       "    }\n",
       "\n",
       "    .dataframe thead th {\n",
       "        text-align: right;\n",
       "    }\n",
       "</style>\n",
       "<table border=\"1\" class=\"dataframe\">\n",
       "  <thead>\n",
       "    <tr style=\"text-align: right;\">\n",
       "      <th></th>\n",
       "      <th>Task</th>\n",
       "      <th>TaskTop1Accuracy</th>\n",
       "    </tr>\n",
       "  </thead>\n",
       "  <tbody>\n",
       "    <tr>\n",
       "      <th>0</th>\n",
       "      <td>Basketball</td>\n",
       "      <td>0.680851</td>\n",
       "    </tr>\n",
       "    <tr>\n",
       "      <th>1</th>\n",
       "      <td>Cooking</td>\n",
       "      <td>0.527778</td>\n",
       "    </tr>\n",
       "    <tr>\n",
       "      <th>2</th>\n",
       "      <td>Dance</td>\n",
       "      <td>0.381944</td>\n",
       "    </tr>\n",
       "    <tr>\n",
       "      <th>3</th>\n",
       "      <td>Music</td>\n",
       "      <td>0.581395</td>\n",
       "    </tr>\n",
       "    <tr>\n",
       "      <th>4</th>\n",
       "      <td>Rock Climbing</td>\n",
       "      <td>0.397380</td>\n",
       "    </tr>\n",
       "    <tr>\n",
       "      <th>5</th>\n",
       "      <td>Soccer</td>\n",
       "      <td>0.583333</td>\n",
       "    </tr>\n",
       "  </tbody>\n",
       "</table>\n",
       "</div>"
      ],
      "text/plain": [
       "            Task  TaskTop1Accuracy\n",
       "0     Basketball          0.680851\n",
       "1        Cooking          0.527778\n",
       "2          Dance          0.381944\n",
       "3          Music          0.581395\n",
       "4  Rock Climbing          0.397380\n",
       "5         Soccer          0.583333"
      ]
     },
     "execution_count": 14,
     "metadata": {},
     "output_type": "execute_result"
    }
   ],
   "source": [
    "# Print the results\n",
    "print(\"TIMESFORMER RESULTS:\")\n",
    "print(\"Overall Top-1 Accuracy:\", overall_top1_accuracy)\n",
    "print(\"Task-wise Top-1 Accuracy:\")\n",
    "task_accuracy_df"
   ]
  },
  {
   "cell_type": "code",
   "execution_count": 15,
   "metadata": {},
   "outputs": [],
   "source": [
    "#task-stratified accuracy stats: MAJORITY BASELINE\n",
    "\n",
    "# Create a DataFrame\n",
    "data = {\n",
    "    \"Task\": task_names,\n",
    "    \"TrueProficiency\": labels,\n",
    "    \"PredictedProficiency\": class_majority_baseline_preds\n",
    "}\n",
    "df = pd.DataFrame(data)\n",
    "\n",
    "# Compute Overall Top-1 Accuracy\n",
    "total_tasks = len(df)\n",
    "correct_predictions = (df[\"TrueProficiency\"] == df[\"PredictedProficiency\"]).sum()\n",
    "overall_top1_accuracy = correct_predictions / total_tasks\n",
    "\n",
    "# Compute Top-1 Accuracy for Each Task\n",
    "task_grouped = df.groupby(\"Task\")\n",
    "task_accuracy = task_grouped.apply(lambda x: (x[\"TrueProficiency\"] == x[\"PredictedProficiency\"]).sum() / len(x))\n",
    "task_count = task_grouped.apply(lambda x: len(x))\n",
    "task_accuracy_df = task_accuracy.reset_index(name=\"TaskTop1Accuracy\")"
   ]
  },
  {
   "cell_type": "code",
   "execution_count": 16,
   "metadata": {},
   "outputs": [
    {
     "name": "stdout",
     "output_type": "stream",
     "text": [
      "MAJORITY CLASS BASELINE RESULTS:\n",
      "Overall Top-1 Accuracy: 0.353322528363047\n",
      "Task-wise Top-1 Accuracy:\n"
     ]
    },
    {
     "data": {
      "text/html": [
       "<div>\n",
       "<style scoped>\n",
       "    .dataframe tbody tr th:only-of-type {\n",
       "        vertical-align: middle;\n",
       "    }\n",
       "\n",
       "    .dataframe tbody tr th {\n",
       "        vertical-align: top;\n",
       "    }\n",
       "\n",
       "    .dataframe thead th {\n",
       "        text-align: right;\n",
       "    }\n",
       "</style>\n",
       "<table border=\"1\" class=\"dataframe\">\n",
       "  <thead>\n",
       "    <tr style=\"text-align: right;\">\n",
       "      <th></th>\n",
       "      <th>Task</th>\n",
       "      <th>TaskTop1Accuracy</th>\n",
       "    </tr>\n",
       "  </thead>\n",
       "  <tbody>\n",
       "    <tr>\n",
       "      <th>0</th>\n",
       "      <td>Basketball</td>\n",
       "      <td>0.382979</td>\n",
       "    </tr>\n",
       "    <tr>\n",
       "      <th>1</th>\n",
       "      <td>Cooking</td>\n",
       "      <td>0.361111</td>\n",
       "    </tr>\n",
       "    <tr>\n",
       "      <th>2</th>\n",
       "      <td>Dance</td>\n",
       "      <td>0.451389</td>\n",
       "    </tr>\n",
       "    <tr>\n",
       "      <th>3</th>\n",
       "      <td>Music</td>\n",
       "      <td>0.604651</td>\n",
       "    </tr>\n",
       "    <tr>\n",
       "      <th>4</th>\n",
       "      <td>Rock Climbing</td>\n",
       "      <td>0.196507</td>\n",
       "    </tr>\n",
       "    <tr>\n",
       "      <th>5</th>\n",
       "      <td>Soccer</td>\n",
       "      <td>0.625000</td>\n",
       "    </tr>\n",
       "  </tbody>\n",
       "</table>\n",
       "</div>"
      ],
      "text/plain": [
       "            Task  TaskTop1Accuracy\n",
       "0     Basketball          0.382979\n",
       "1        Cooking          0.361111\n",
       "2          Dance          0.451389\n",
       "3          Music          0.604651\n",
       "4  Rock Climbing          0.196507\n",
       "5         Soccer          0.625000"
      ]
     },
     "execution_count": 16,
     "metadata": {},
     "output_type": "execute_result"
    }
   ],
   "source": [
    "print(\"MAJORITY CLASS BASELINE RESULTS:\")\n",
    "print(\"Overall Top-1 Accuracy:\", overall_top1_accuracy)\n",
    "print(\"Task-wise Top-1 Accuracy:\")\n",
    "task_accuracy_df"
   ]
  },
  {
   "cell_type": "code",
   "execution_count": 17,
   "metadata": {},
   "outputs": [
    {
     "data": {
      "text/plain": [
       "Task\n",
       "Basketball       141\n",
       "Cooking           36\n",
       "Dance            144\n",
       "Music             43\n",
       "Rock Climbing    229\n",
       "Soccer            24\n",
       "dtype: int64"
      ]
     },
     "execution_count": 17,
     "metadata": {},
     "output_type": "execute_result"
    }
   ],
   "source": [
    "task_count"
   ]
  },
  {
   "cell_type": "code",
   "execution_count": 18,
   "metadata": {},
   "outputs": [
    {
     "data": {
      "image/png": "[encoded data removed]",
      "text/plain": [
       "<Figure size 800x600 with 2 Axes>"
      ]
     },
     "metadata": {},
     "output_type": "display_data"
    },
    {
     "name": "stdout",
     "output_type": "stream",
     "text": [
      "              precision    recall  f1-score   support\n",
      "\n",
      "           0       0.48      0.66      0.55        80\n",
      "           1       0.58      0.56      0.57       196\n",
      "           2       0.41      0.40      0.40       185\n",
      "           3       0.47      0.40      0.44       156\n",
      "\n",
      "    accuracy                           0.49       617\n",
      "   macro avg       0.48      0.51      0.49       617\n",
      "weighted avg       0.49      0.49      0.48       617\n",
      "\n"
     ]
    }
   ],
   "source": [
    "# Calculate the confusion matrix\n",
    "conf_matrix = confusion_matrix(labels, pred_idxs)\n",
    "\n",
    "# Calculate classification report with relevant metrics\n",
    "report = classification_report(labels, pred_idxs)\n",
    "\n",
    "# Create a heatmap using seaborn\n",
    "plt.figure(figsize=(8, 6))\n",
    "sns.set(font_scale=1.2)\n",
    "sns.heatmap(conf_matrix, annot=True, fmt=\"d\", cmap=\"Blues\", xticklabels=[\"Class 0\", \"Class 1\", \"Class 2\", \"Class 3\"], yticklabels=[\"Class 0\", \"Class 1\", \"Class 2\", \"Class 3\"])\n",
    "plt.title(\"Confusion Matrix\")\n",
    "plt.xlabel(\"Predicted Label\")\n",
    "plt.ylabel(\"True Label\")\n",
    "plt.show()\n",
    "\n",
    "# Print the classification report\n",
    "print(report)"
   ]
  }
 ],
 "metadata": {
  "kernelspec": {
   "display_name": "Python 3",
   "language": "python",
   "name": "python3"
  },
  "language_info": {
   "codemirror_mode": {
    "name": "ipython",
    "version": 3
   },
   "file_extension": ".py",
   "mimetype": "text/x-python",
   "name": "python",
   "nbconvert_exporter": "python",
   "pygments_lexer": "ipython3",
   "version": "3.8.17"
  },
  "orig_nbformat": 4
 },
 "nbformat": 4,
 "nbformat_minor": 2
}
