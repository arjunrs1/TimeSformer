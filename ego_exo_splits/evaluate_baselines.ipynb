{
 "cells": [
  {
   "cell_type": "code",
   "execution_count": 1,
   "metadata": {},
   "outputs": [],
   "source": [
    "import os\n",
    "import json\n",
    "from collections import defaultdict\n",
    "from statistics import mode\n",
    "import random"
   ]
  },
  {
   "cell_type": "code",
   "execution_count": 2,
   "metadata": {},
   "outputs": [],
   "source": [
    "train_metadata_path = \"/vision/asomaya1/ego_exo/data/demonstrator_arxiv24_train.json\"\n",
    "with open(train_metadata_path, \"r\") as f:\n",
    "    train_data = json.load(f)\n",
    "\n",
    "#CHANGE val to test if evaluating on test!!\n",
    "val_metadata_path = \"/vision/asomaya1/ego_exo/data/demonstrator_arxiv24_test.json\"\n",
    "with open(val_metadata_path, \"r\") as f:\n",
    "    val_data = json.load(f)\n",
    "\n",
    "is_v2 = True if \"24\" in val_metadata_path else False\n",
    "v2_downsampled_rel_path = \"downscaled/448\"\n",
    "is_val = True if \"val\" in val_metadata_path else False"
   ]
  },
  {
   "cell_type": "code",
   "execution_count": 3,
   "metadata": {},
   "outputs": [],
   "source": [
    "proficiency_mapping = {'Novice': 0, 'Early Expert': 3, 'Intermediate Expert': 2, 'Late Expert': 1}"
   ]
  },
  {
   "cell_type": "code",
   "execution_count": 4,
   "metadata": {},
   "outputs": [],
   "source": [
    "# Step 1: Collect task names and proficiency scores\n",
    "task_scores = defaultdict(list)\n",
    "\n",
    "for entry in train_data:\n",
    "    task_name = entry['scenario_name']\n",
    "    proficiency_score = entry['proficiency_score']\n",
    "    task_scores[task_name].append(proficiency_score)\n",
    "\n",
    "# Step 2: Process collected data to find most common proficiency score and map to integer\n",
    "task_mode_score_mapping = {}\n",
    "\n",
    "for task_name, scores in task_scores.items():\n",
    "    most_common = mode(scores)\n",
    "    mode_score_integer = proficiency_mapping[most_common]\n",
    "    task_mode_score_mapping[task_name] = mode_score_integer\n",
    "\n",
    "# Step 3: Map video paths to the mode proficiency score for their respective task\n",
    "video_path_task_mapping = {}\n",
    "\n",
    "for entry in val_data:\n",
    "    task_name = entry['scenario_name']\n",
    "    proficiency_score = entry['proficiency_score']\n",
    "    video_paths = entry['video_paths']\n",
    "\n",
    "    for video_path in video_paths.values():\n",
    "        if is_v2:\n",
    "            parts = video_path.split(\"/\")\n",
    "            directory_to_find = \"frame_aligned_videos\"\n",
    "            index = parts.index(directory_to_find) + 1\n",
    "            parts.insert(index, v2_downsampled_rel_path)\n",
    "            video_path = \"/\".join(parts)\n",
    "        if task_name not in task_mode_score_mapping.keys():\n",
    "            print(task_name)\n",
    "            video_path_task_mapping[video_path] = random.randint(0,3)\n",
    "        else:\n",
    "            video_path_task_mapping[video_path] = task_mode_score_mapping[task_name]\n",
    "\n",
    "output_filename = 'majority_class_baseline_mapping_full.json'\n",
    "if is_v2:\n",
    "    output_filename = 'majority_class_baseline_mapping_full_v2.json'\n",
    "if is_val:\n",
    "    output_filename = \"val_\" + output_filename\n",
    "\n",
    "with open(output_filename, 'w') as json_file:\n",
    "    json.dump(video_path_task_mapping, json_file, indent=4)"
   ]
  },
  {
   "cell_type": "code",
   "execution_count": 5,
   "metadata": {},
   "outputs": [
    {
     "data": {
      "text/plain": [
       "{'Cooking': 0,\n",
       " 'Basketball': 1,\n",
       " 'Soccer': 1,\n",
       " 'Rock Climbing': 0,\n",
       " 'Music': 1,\n",
       " 'Dance': 3}"
      ]
     },
     "execution_count": 5,
     "metadata": {},
     "output_type": "execute_result"
    }
   ],
   "source": [
    "task_mode_score_mapping"
   ]
  }
 ],
 "metadata": {
  "kernelspec": {
   "display_name": "Python 3",
   "language": "python",
   "name": "python3"
  },
  "language_info": {
   "codemirror_mode": {
    "name": "ipython",
    "version": 3
   },
   "file_extension": ".py",
   "mimetype": "text/x-python",
   "name": "python",
   "nbconvert_exporter": "python",
   "pygments_lexer": "ipython3",
   "version": "3.8.17"
  },
  "orig_nbformat": 4
 },
 "nbformat": 4,
 "nbformat_minor": 2
}
