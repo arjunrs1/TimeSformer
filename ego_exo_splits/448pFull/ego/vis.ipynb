{
 "cells": [
  {
   "cell_type": "code",
   "execution_count": 7,
   "metadata": {},
   "outputs": [
    {
     "name": "stdout",
     "output_type": "stream",
     "text": [
      "Label 2: 65 times\n",
      "Label 3: 73 times\n",
      "Label 1: 24 times\n"
     ]
    }
   ],
   "source": [
    "from collections import Counter\n",
    "\n",
    "labels = []\n",
    "\n",
    "with open('test.csv', 'r') as file:\n",
    "    for line in file:\n",
    "        if 'bouldering' in line:\n",
    "            parts = line.strip().split(' ')\n",
    "            label = parts[-1]  # Assuming the label is always the last part of the line\n",
    "            labels.append(int(label))\n",
    "\n",
    "# Counting each label\n",
    "label_counts = Counter(labels)\n",
    "\n",
    "# Display the count of each label\n",
    "for label, count in label_counts.items():\n",
    "    print(f\"Label {label}: {count} times\")"
   ]
  },
  {
   "cell_type": "code",
   "execution_count": null,
   "metadata": {},
   "outputs": [],
   "source": []
  }
 ],
 "metadata": {
  "kernelspec": {
   "display_name": "Python 3",
   "language": "python",
   "name": "python3"
  },
  "language_info": {
   "codemirror_mode": {
    "name": "ipython",
    "version": 3
   },
   "file_extension": ".py",
   "mimetype": "text/x-python",
   "name": "python",
   "nbconvert_exporter": "python",
   "pygments_lexer": "ipython3",
   "version": "3.8.17"
  }
 },
 "nbformat": 4,
 "nbformat_minor": 2
}
