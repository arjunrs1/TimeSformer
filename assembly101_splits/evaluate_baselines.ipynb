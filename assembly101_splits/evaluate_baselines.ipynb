{
 "cells": [
  {
   "cell_type": "code",
   "execution_count": 1,
   "metadata": {},
   "outputs": [],
   "source": [
    "import os\n",
    "import json\n",
    "from collections import defaultdict\n",
    "from statistics import mode\n",
    "import pandas as pd\n",
    "import matplotlib.pyplot as plt"
   ]
  },
  {
   "cell_type": "code",
   "execution_count": 15,
   "metadata": {},
   "outputs": [],
   "source": [
    "train_metadata_path = \"/vision/asomaya1/ego_exo/ProficiencyEstimation/TimeSformer/assembly101_splits/256p/exo_all/train.csv\"\n",
    "df = pd.read_csv(train_metadata_path, sep=' ', header=None, names=['video_id', 'skill_annotation'])\n",
    "\n",
    "train_metadata_path_ego = \"/vision/asomaya1/ego_exo/ProficiencyEstimation/TimeSformer/assembly101_splits/256p/ego/train.csv\"\n",
    "df_ego = pd.read_csv(train_metadata_path_ego, sep=' ', header=None, names=['video_id', 'skill_annotation'])"
   ]
  },
  {
   "cell_type": "code",
   "execution_count": 25,
   "metadata": {},
   "outputs": [
    {
     "name": "stderr",
     "output_type": "stream",
     "text": [
      "/tmp/ipykernel_3108646/3143664256.py:5: FutureWarning: Unlike other reduction functions (e.g. `skew`, `kurtosis`), the default behavior of `mode` typically preserves the axis it acts along. In SciPy 1.11.0, this behavior will change: the default value of `keepdims` will become False, the `axis` over which the statistic is taken will be eliminated, and the value None will no longer be accepted. Set `keepdims` to True or False to avoid this warning.\n",
      "  stats.mode(df_ego['skill_annotation'].values)\n"
     ]
    },
    {
     "data": {
      "text/plain": [
       "ModeResult(mode=array([3]), count=array([376]))"
      ]
     },
     "execution_count": 25,
     "metadata": {},
     "output_type": "execute_result"
    }
   ],
   "source": [
    "from scipy import stats\n",
    "\n",
    "stats.mode(df_ego['skill_annotation'].values)"
   ]
  },
  {
   "cell_type": "code",
   "execution_count": null,
   "metadata": {},
   "outputs": [],
   "source": [
    "val_metadata_path = \"/vision/asomaya1/ego_exo/data/demonstrator_val_v1.json\"\n",
    "with open(val_metadata_path, \"r\") as f:\n",
    "    val_data = json.load(f)"
   ]
  },
  {
   "cell_type": "code",
   "execution_count": 4,
   "metadata": {},
   "outputs": [],
   "source": [
    "# Step 1: Collect task names and proficiency scores\n",
    "task_scores = defaultdict(list)\n",
    "\n",
    "for entry in train_data:\n",
    "    task_name = entry['task_name']\n",
    "    proficiency_score = entry['proficiency_score']\n",
    "    task_scores[task_name].append(proficiency_score)\n",
    "\n",
    "# Step 2: Process collected data to find most common proficiency score and map to integer\n",
    "task_mode_score_mapping = {}\n",
    "\n",
    "for task_name, scores in task_scores.items():\n",
    "    most_common = mode(scores)\n",
    "    mode_score_integer = proficiency_mapping[most_common]\n",
    "    task_mode_score_mapping[task_name] = mode_score_integer\n",
    "\n",
    "# Step 3: Map video paths to the mode proficiency score for their respective task\n",
    "video_path_task_mapping = {}\n",
    "\n",
    "for entry in val_data:\n",
    "    task_name = entry['task_name']\n",
    "    proficiency_score = entry['proficiency_score']\n",
    "    video_paths = entry['video_paths']\n",
    "\n",
    "    for video_path in video_paths.values():\n",
    "        video_path_task_mapping[video_path] = task_mode_score_mapping[task_name]\n",
    "\n",
    "output_filename = 'majority_class_baseline_mapping.json'\n",
    "\n",
    "with open(output_filename, 'w') as json_file:\n",
    "    json.dump(video_path_task_mapping, json_file, indent=4)"
   ]
  }
 ],
 "metadata": {
  "kernelspec": {
   "display_name": "Python 3",
   "language": "python",
   "name": "python3"
  },
  "language_info": {
   "codemirror_mode": {
    "name": "ipython",
    "version": 3
   },
   "file_extension": ".py",
   "mimetype": "text/x-python",
   "name": "python",
   "nbconvert_exporter": "python",
   "pygments_lexer": "ipython3",
   "version": "3.8.17"
  },
  "orig_nbformat": 4
 },
 "nbformat": 4,
 "nbformat_minor": 2
}
